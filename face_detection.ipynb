{
    "nbformat_minor": 2, 
    "cells": [
        {
            "source": "!pip install tensorflow", 
            "cell_type": "code", 
            "metadata": {}, 
            "outputs": [
                {
                    "output_type": "stream", 
                    "name": "stdout", 
                    "text": "Requirement already satisfied: tensorflow in /opt/conda/envs/DSX-Python35/lib/python3.5/site-packages (1.3.0)\nRequirement already satisfied: numpy>=1.11.0 in /opt/conda/envs/DSX-Python35/lib/python3.5/site-packages (from tensorflow) (1.13.3)\nRequirement already satisfied: protobuf>=3.3.0 in /opt/conda/envs/DSX-Python35/lib/python3.5/site-packages (from tensorflow) (3.4.1)\nRequirement already satisfied: wheel>=0.26 in /opt/conda/envs/DSX-Python35/lib/python3.5/site-packages (from tensorflow) (0.29.0)\nRequirement already satisfied: six>=1.10.0 in /opt/conda/envs/DSX-Python35/lib/python3.5/site-packages (from tensorflow) (1.11.0)\nCollecting tensorflow-tensorboard<0.2.0,>=0.1.0 (from tensorflow)\n\u001b[?25l  Downloading https://files.pythonhosted.org/packages/93/31/bb4111c3141d22bd7b2b553a26aa0c1863c86cb723919e5bd7847b3de4fc/tensorflow_tensorboard-0.1.8-py3-none-any.whl (1.6MB)\n\u001b[K    100% |\u2588\u2588\u2588\u2588\u2588\u2588\u2588\u2588\u2588\u2588\u2588\u2588\u2588\u2588\u2588\u2588\u2588\u2588\u2588\u2588\u2588\u2588\u2588\u2588\u2588\u2588\u2588\u2588\u2588\u2588\u2588\u2588| 1.6MB 16.4MB/s ta 0:00:01\n\u001b[?25hRequirement already satisfied: setuptools in /opt/conda/envs/DSX-Python35/lib/python3.5/site-packages (from protobuf>=3.3.0->tensorflow) (36.5.0.post20170921)\nCollecting html5lib==0.9999999 (from tensorflow-tensorboard<0.2.0,>=0.1.0->tensorflow)\n\u001b[?25l  Downloading https://files.pythonhosted.org/packages/ae/ae/bcb60402c60932b32dfaf19bb53870b29eda2cd17551ba5639219fb5ebf9/html5lib-0.9999999.tar.gz (889kB)\n\u001b[K    100% |\u2588\u2588\u2588\u2588\u2588\u2588\u2588\u2588\u2588\u2588\u2588\u2588\u2588\u2588\u2588\u2588\u2588\u2588\u2588\u2588\u2588\u2588\u2588\u2588\u2588\u2588\u2588\u2588\u2588\u2588\u2588\u2588| 890kB 21.7MB/s ta 0:00:01\n\u001b[?25hCollecting bleach==1.5.0 (from tensorflow-tensorboard<0.2.0,>=0.1.0->tensorflow)\n  Downloading https://files.pythonhosted.org/packages/33/70/86c5fec937ea4964184d4d6c4f0b9551564f821e1c3575907639036d9b90/bleach-1.5.0-py2.py3-none-any.whl\nRequirement already satisfied: markdown>=2.6.8 in /opt/conda/envs/DSX-Python35/lib/python3.5/site-packages (from tensorflow-tensorboard<0.2.0,>=0.1.0->tensorflow) (2.6.9)\nRequirement already satisfied: werkzeug>=0.11.10 in /opt/conda/envs/DSX-Python35/lib/python3.5/site-packages (from tensorflow-tensorboard<0.2.0,>=0.1.0->tensorflow) (0.12.2)\nBuilding wheels for collected packages: html5lib\n  Running setup.py bdist_wheel for html5lib ... \u001b[?25ldone\n\u001b[?25h  Stored in directory: /home/dsxuser/.cache/pip/wheels/50/ae/f9/d2b189788efcf61d1ee0e36045476735c838898eef1cad6e29\nSuccessfully built html5lib\nInstalling collected packages: html5lib, bleach, tensorflow-tensorboard\n  Found existing installation: html5lib 0.999999999\n    Uninstalling html5lib-0.999999999:\n      Successfully uninstalled html5lib-0.999999999\n  Found existing installation: bleach 2.0.0\n    Uninstalling bleach-2.0.0:\n      Successfully uninstalled bleach-2.0.0\nSuccessfully installed bleach-1.5.0 html5lib-0.9999999 tensorflow-tensorboard-0.1.8\n"
                }
            ], 
            "execution_count": 2
        }, 
        {
            "source": "!pip install numpy", 
            "cell_type": "code", 
            "metadata": {}, 
            "outputs": [
                {
                    "output_type": "stream", 
                    "name": "stdout", 
                    "text": "Requirement already satisfied: numpy in /opt/conda/envs/DSX-Python35/lib/python3.5/site-packages (1.13.3)\r\n"
                }
            ], 
            "execution_count": 3
        }, 
        {
            "source": "!pip install opencv-python", 
            "cell_type": "code", 
            "metadata": {}, 
            "outputs": [
                {
                    "output_type": "stream", 
                    "name": "stdout", 
                    "text": "Collecting opencv-python\n\u001b[?25l  Downloading https://files.pythonhosted.org/packages/fe/c8/421eeac942ebc89552a5c90c2141b936be9cfde24dc3c6eeb472c62d1f8e/opencv_python-4.1.0.25-cp35-cp35m-manylinux1_x86_64.whl (26.6MB)\n\u001b[K    100% |\u2588\u2588\u2588\u2588\u2588\u2588\u2588\u2588\u2588\u2588\u2588\u2588\u2588\u2588\u2588\u2588\u2588\u2588\u2588\u2588\u2588\u2588\u2588\u2588\u2588\u2588\u2588\u2588\u2588\u2588\u2588\u2588| 26.6MB 356kB/s eta 0:00:01\n\u001b[?25hRequirement already satisfied: numpy>=1.11.1 in /opt/conda/envs/DSX-Python35/lib/python3.5/site-packages (from opencv-python) (1.13.3)\n\u001b[31mtensorflow 1.3.0 requires tensorflow-tensorboard<0.2.0,>=0.1.0, which is not installed.\u001b[0m\nInstalling collected packages: opencv-python\nSuccessfully installed opencv-python-4.1.0.25\n"
                }
            ], 
            "execution_count": 3
        }, 
        {
            "source": "import pandas as pd\nimport numpy as np\nimport os\nimport cv2", 
            "cell_type": "code", 
            "metadata": {}, 
            "outputs": [], 
            "execution_count": 2
        }, 
        {
            "source": "# GIVE THE DIRECTORY WHERE U WANT TO SAVE FOR THE PATH\n#GIVE XML LOCATION TO CV_detect_face", 
            "cell_type": "markdown", 
            "metadata": {}
        }, 
        {
            "source": "path=r\"D:\\images\"\ncv_detect_face=r\"D:\\haarcascade_frontalface_default.xml\"", 
            "cell_type": "code", 
            "metadata": {}, 
            "outputs": [], 
            "execution_count": 1
        }, 
        {
            "source": "import cv2\nname=\"charan\"\nnum_of_images=10\nweb=cv2.VideoCapture(0)\nhaar_cascade_face = cv2.CascadeClassifier(cv_detect_face)\nos.makedirs(os.path.join(path,'charan'),exist_ok=True)\ncount=0\nwhile count<num_of_images:\n    _,im=web.read()\n    try:\n            faces=haar_cascade_face.detectMultiScale(im,1.3, 4)\n    except:\n        continue\n    gray = cv2.cvtColor(im, cv2.COLOR_BGR2GRAY)\n    for x,y,w,h in faces:\n        face = gray[y:y + h, x:x + w] \n        face_resize = cv2.resize(face, (w, h))\n        cv2.imwrite('%s/%s.png'%(os.path.join(path,'charan'), count),face_resize)\n        if count//10==0:\n            print(count,end='')\n    count+=1\n    key = cv2.waitKey(10) \n    if key == 27: \n        break\ncv2.destroyAllWindows()\nweb.release()", 
            "cell_type": "code", 
            "metadata": {}, 
            "outputs": [], 
            "execution_count": null
        }, 
        {
            "source": "", 
            "cell_type": "code", 
            "metadata": {}, 
            "outputs": [], 
            "execution_count": null
        }
    ], 
    "metadata": {
        "kernelspec": {
            "display_name": "Python 3.5", 
            "name": "python3", 
            "language": "python"
        }, 
        "language_info": {
            "mimetype": "text/x-python", 
            "nbconvert_exporter": "python", 
            "version": "3.5.5", 
            "name": "python", 
            "pygments_lexer": "ipython3", 
            "file_extension": ".py", 
            "codemirror_mode": {
                "version": 3, 
                "name": "ipython"
            }
        }
    }, 
    "nbformat": 4
}